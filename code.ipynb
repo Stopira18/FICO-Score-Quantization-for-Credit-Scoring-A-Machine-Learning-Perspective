{
 "cells": [
  {
   "cell_type": "markdown",
   "id": "d1c0f40e",
   "metadata": {},
   "source": [
    "# Credit Risk Analysis\n"
   ]
  },
  {
   "cell_type": "markdown",
   "id": "3dd0f1cf",
   "metadata": {},
   "source": [
    "We will first import libraries"
   ]
  },
  {
   "cell_type": "code",
   "execution_count": 2,
   "id": "7d0e3c44",
   "metadata": {},
   "outputs": [],
   "source": [
    "import pandas as pd\n",
    "import numpy as np\n",
    "import seaborn as sns\n",
    "import matplotlib.pyplot as plt\n",
    "from sklearn.model_selection import train_test_split\n",
    "from imblearn.over_sampling import SMOTE\n",
    "from sklearn.linear_model import LogisticRegression\n",
    "from xgboost import XGBClassifier\n",
    "from sklearn.preprocessing import StandardScaler\n",
    "from sklearn.model_selection import cross_val_predict\n",
    "from sklearn.model_selection import StratifiedKFold\n",
    "from sklearn.metrics import roc_curve, roc_auc_score, precision_score"
   ]
  },
  {
   "cell_type": "markdown",
   "id": "9f7e30ff",
   "metadata": {},
   "source": [
    "After importing the libraries , let upload the loan data"
   ]
  },
  {
   "cell_type": "code",
   "execution_count": 3,
   "id": "f1a30395",
   "metadata": {},
   "outputs": [],
   "source": [
    "df=pd.read_csv(r\"C:\\Users\\olilo\\Downloads\\Task 3 and 4_Loan_Data.csv\")\n",
    "\n",
    "# Drop customer_id column as it won't contribute to the prediction\n",
    "df.drop(columns=['customer_id'], inplace=True)\n",
    "dt=df.copy()"
   ]
  },
  {
   "cell_type": "code",
   "execution_count": 4,
   "id": "f724249c",
   "metadata": {},
   "outputs": [
    {
     "data": {
      "text/html": [
       "<div>\n",
       "<style scoped>\n",
       "    .dataframe tbody tr th:only-of-type {\n",
       "        vertical-align: middle;\n",
       "    }\n",
       "\n",
       "    .dataframe tbody tr th {\n",
       "        vertical-align: top;\n",
       "    }\n",
       "\n",
       "    .dataframe thead th {\n",
       "        text-align: right;\n",
       "    }\n",
       "</style>\n",
       "<table border=\"1\" class=\"dataframe\">\n",
       "  <thead>\n",
       "    <tr style=\"text-align: right;\">\n",
       "      <th></th>\n",
       "      <th>credit_lines_outstanding</th>\n",
       "      <th>loan_amt_outstanding</th>\n",
       "      <th>total_debt_outstanding</th>\n",
       "      <th>income</th>\n",
       "      <th>years_employed</th>\n",
       "      <th>fico_score</th>\n",
       "      <th>default</th>\n",
       "    </tr>\n",
       "  </thead>\n",
       "  <tbody>\n",
       "    <tr>\n",
       "      <th>0</th>\n",
       "      <td>0</td>\n",
       "      <td>5221.545193</td>\n",
       "      <td>3915.471226</td>\n",
       "      <td>78039.38546</td>\n",
       "      <td>5</td>\n",
       "      <td>605</td>\n",
       "      <td>0</td>\n",
       "    </tr>\n",
       "    <tr>\n",
       "      <th>1</th>\n",
       "      <td>5</td>\n",
       "      <td>1958.928726</td>\n",
       "      <td>8228.752520</td>\n",
       "      <td>26648.43525</td>\n",
       "      <td>2</td>\n",
       "      <td>572</td>\n",
       "      <td>1</td>\n",
       "    </tr>\n",
       "    <tr>\n",
       "      <th>2</th>\n",
       "      <td>0</td>\n",
       "      <td>3363.009259</td>\n",
       "      <td>2027.830850</td>\n",
       "      <td>65866.71246</td>\n",
       "      <td>4</td>\n",
       "      <td>602</td>\n",
       "      <td>0</td>\n",
       "    </tr>\n",
       "    <tr>\n",
       "      <th>3</th>\n",
       "      <td>0</td>\n",
       "      <td>4766.648001</td>\n",
       "      <td>2501.730397</td>\n",
       "      <td>74356.88347</td>\n",
       "      <td>5</td>\n",
       "      <td>612</td>\n",
       "      <td>0</td>\n",
       "    </tr>\n",
       "    <tr>\n",
       "      <th>4</th>\n",
       "      <td>1</td>\n",
       "      <td>1345.827718</td>\n",
       "      <td>1768.826187</td>\n",
       "      <td>23448.32631</td>\n",
       "      <td>6</td>\n",
       "      <td>631</td>\n",
       "      <td>0</td>\n",
       "    </tr>\n",
       "    <tr>\n",
       "      <th>...</th>\n",
       "      <td>...</td>\n",
       "      <td>...</td>\n",
       "      <td>...</td>\n",
       "      <td>...</td>\n",
       "      <td>...</td>\n",
       "      <td>...</td>\n",
       "      <td>...</td>\n",
       "    </tr>\n",
       "    <tr>\n",
       "      <th>9995</th>\n",
       "      <td>0</td>\n",
       "      <td>3033.647103</td>\n",
       "      <td>2553.733144</td>\n",
       "      <td>42691.62787</td>\n",
       "      <td>5</td>\n",
       "      <td>697</td>\n",
       "      <td>0</td>\n",
       "    </tr>\n",
       "    <tr>\n",
       "      <th>9996</th>\n",
       "      <td>1</td>\n",
       "      <td>4146.239304</td>\n",
       "      <td>5458.163525</td>\n",
       "      <td>79969.50521</td>\n",
       "      <td>8</td>\n",
       "      <td>615</td>\n",
       "      <td>0</td>\n",
       "    </tr>\n",
       "    <tr>\n",
       "      <th>9997</th>\n",
       "      <td>2</td>\n",
       "      <td>3088.223727</td>\n",
       "      <td>4813.090925</td>\n",
       "      <td>38192.67591</td>\n",
       "      <td>5</td>\n",
       "      <td>596</td>\n",
       "      <td>0</td>\n",
       "    </tr>\n",
       "    <tr>\n",
       "      <th>9998</th>\n",
       "      <td>0</td>\n",
       "      <td>3288.901666</td>\n",
       "      <td>1043.099660</td>\n",
       "      <td>50929.37206</td>\n",
       "      <td>2</td>\n",
       "      <td>647</td>\n",
       "      <td>0</td>\n",
       "    </tr>\n",
       "    <tr>\n",
       "      <th>9999</th>\n",
       "      <td>1</td>\n",
       "      <td>1917.652480</td>\n",
       "      <td>3050.248203</td>\n",
       "      <td>30611.62821</td>\n",
       "      <td>6</td>\n",
       "      <td>757</td>\n",
       "      <td>0</td>\n",
       "    </tr>\n",
       "  </tbody>\n",
       "</table>\n",
       "<p>10000 rows × 7 columns</p>\n",
       "</div>"
      ],
      "text/plain": [
       "      credit_lines_outstanding  loan_amt_outstanding  total_debt_outstanding  \\\n",
       "0                            0           5221.545193             3915.471226   \n",
       "1                            5           1958.928726             8228.752520   \n",
       "2                            0           3363.009259             2027.830850   \n",
       "3                            0           4766.648001             2501.730397   \n",
       "4                            1           1345.827718             1768.826187   \n",
       "...                        ...                   ...                     ...   \n",
       "9995                         0           3033.647103             2553.733144   \n",
       "9996                         1           4146.239304             5458.163525   \n",
       "9997                         2           3088.223727             4813.090925   \n",
       "9998                         0           3288.901666             1043.099660   \n",
       "9999                         1           1917.652480             3050.248203   \n",
       "\n",
       "           income  years_employed  fico_score  default  \n",
       "0     78039.38546               5         605        0  \n",
       "1     26648.43525               2         572        1  \n",
       "2     65866.71246               4         602        0  \n",
       "3     74356.88347               5         612        0  \n",
       "4     23448.32631               6         631        0  \n",
       "...           ...             ...         ...      ...  \n",
       "9995  42691.62787               5         697        0  \n",
       "9996  79969.50521               8         615        0  \n",
       "9997  38192.67591               5         596        0  \n",
       "9998  50929.37206               2         647        0  \n",
       "9999  30611.62821               6         757        0  \n",
       "\n",
       "[10000 rows x 7 columns]"
      ]
     },
     "execution_count": 4,
     "metadata": {},
     "output_type": "execute_result"
    }
   ],
   "source": [
    "dt"
   ]
  },
  {
   "cell_type": "markdown",
   "id": "4ea68bea",
   "metadata": {},
   "source": [
    "The first step after loadind the data is to explore the data"
   ]
  },
  {
   "cell_type": "markdown",
   "id": "6ec955ae",
   "metadata": {},
   "source": [
    "# Exploratory Data Analysis"
   ]
  },
  {
   "cell_type": "code",
   "execution_count": 5,
   "id": "a23cedf0",
   "metadata": {},
   "outputs": [
    {
     "name": "stdout",
     "output_type": "stream",
     "text": [
      "Basic Statistics:\n",
      "       credit_lines_outstanding  loan_amt_outstanding  total_debt_outstanding  \\\n",
      "count              10000.000000          10000.000000            10000.000000   \n",
      "mean                   1.461200           4159.677034             8718.916797   \n",
      "std                    1.743846           1421.399078             6627.164762   \n",
      "min                    0.000000             46.783973               31.652732   \n",
      "25%                    0.000000           3154.235371             4199.836020   \n",
      "50%                    1.000000           4052.377228             6732.407217   \n",
      "75%                    2.000000           5052.898103            11272.263740   \n",
      "max                    5.000000          10750.677810            43688.784100   \n",
      "\n",
      "              income  years_employed    fico_score       default  \n",
      "count   10000.000000    10000.000000  10000.000000  10000.000000  \n",
      "mean    70039.901401        4.552800    637.557700      0.185100  \n",
      "std     20072.214143        1.566862     60.657906      0.388398  \n",
      "min      1000.000000        0.000000    408.000000      0.000000  \n",
      "25%     56539.867903        3.000000    597.000000      0.000000  \n",
      "50%     70085.826330        5.000000    638.000000      0.000000  \n",
      "75%     83429.166133        6.000000    679.000000      0.000000  \n",
      "max    148412.180500       10.000000    850.000000      1.000000  \n",
      "\n",
      "Missing Values:\n",
      "credit_lines_outstanding    0\n",
      "loan_amt_outstanding        0\n",
      "total_debt_outstanding      0\n",
      "income                      0\n",
      "years_employed              0\n",
      "fico_score                  0\n",
      "default                     0\n",
      "dtype: int64\n"
     ]
    },
    {
     "data": {
      "image/png": "[encoded data removed]",
      "text/plain": [
       "<Figure size 720x576 with 2 Axes>"
      ]
     },
     "metadata": {
      "needs_background": "light"
     },
     "output_type": "display_data"
    },
    {
     "data": {
      "image/png": "[encoded data removed]",
      "text/plain": [
       "<Figure size 432x288 with 1 Axes>"
      ]
     },
     "metadata": {
      "needs_background": "light"
     },
     "output_type": "display_data"
    },
    {
     "data": {
      "image/png": "[encoded data removed]",
      "text/plain": [
       "<Figure size 432x288 with 1 Axes>"
      ]
     },
     "metadata": {
      "needs_background": "light"
     },
     "output_type": "display_data"
    },
    {
     "data": {
      "image/png": "[encoded data removed]",
      "text/plain": [
       "<Figure size 432x288 with 1 Axes>"
      ]
     },
     "metadata": {
      "needs_background": "light"
     },
     "output_type": "display_data"
    },
    {
     "data": {
      "image/png": "[encoded data removed]",
      "text/plain": [
       "<Figure size 432x288 with 1 Axes>"
      ]
     },
     "metadata": {
      "needs_background": "light"
     },
     "output_type": "display_data"
    },
    {
     "data": {
      "image/png": "[encoded data removed]",
      "text/plain": [
       "<Figure size 432x288 with 1 Axes>"
      ]
     },
     "metadata": {
      "needs_background": "light"
     },
     "output_type": "display_data"
    },
    {
     "data": {
      "image/png": "[encoded data removed]",
      "text/plain": [
       "<Figure size 432x288 with 1 Axes>"
      ]
     },
     "metadata": {
      "needs_background": "light"
     },
     "output_type": "display_data"
    },
    {
     "data": {
      "image/png": "[encoded data removed]",
      "text/plain": [
       "<Figure size 432x288 with 1 Axes>"
      ]
     },
     "metadata": {
      "needs_background": "light"
     },
     "output_type": "display_data"
    }
   ],
   "source": [
    "# Explore the data with EDA\n",
    "def perform_eda(df):\n",
    "    # Basic statistics\n",
    "    print(\"Basic Statistics:\")\n",
    "    print(df.describe())\n",
    "\n",
    "    # Check for missing values\n",
    "    print(\"\\nMissing Values:\")\n",
    "    print(df.isnull().sum())\n",
    "\n",
    "    # Pairwise correlation heatmap\n",
    "    plt.figure(figsize=(10, 8))\n",
    "    sns.heatmap(df.corr(), annot=True, cmap='coolwarm', fmt=\".2f\", linewidths=0.5)\n",
    "    plt.title(\"Pairwise Correlation Heatmap\")\n",
    "    plt.show()\n",
    "\n",
    "    # Univariate analysis of the target variable (default)\n",
    "    plt.figure(figsize=(6, 4))\n",
    "    sns.countplot(x='default', data=df)\n",
    "    plt.title(\"Distribution of Default\")\n",
    "    plt.show()\n",
    " # Bivariate analysis: Default vs. other features\n",
    "    features = df.drop(columns=['default']).columns\n",
    "    for feature in features:\n",
    "        plt.figure(figsize=(6, 4))\n",
    "        sns.boxplot(x='default', y=feature, data=df)\n",
    "        plt.title(f\"{feature} vs. Default\")\n",
    "        plt.show()\n",
    "\n",
    "# Perform EDA\n",
    "perform_eda(df)"
   ]
  },
  {
   "cell_type": "code",
   "execution_count": null,
   "id": "de4b63ab",
   "metadata": {},
   "outputs": [],
   "source": []
  },
  {
   "cell_type": "markdown",
   "id": "3e2cccec",
   "metadata": {},
   "source": [
    "From the data analysis we found out that :\n",
    "\n",
    "    - we may have some multicolllinearity problem\n",
    "    \n",
    "    - The distribution of default is unbalanced\n",
    "    \n",
    "    - the total loan outstanding is one of the biggest effect of defaulting"
   ]
  },
  {
   "cell_type": "markdown",
   "id": "e6fa0005",
   "metadata": {},
   "source": [
    "from here I decided to to compute the weight of evidence and Information value to understand the predictive power of each independant variable"
   ]
  },
  {
   "cell_type": "code",
   "execution_count": 7,
   "id": "79c4890b",
   "metadata": {
    "scrolled": true
   },
   "outputs": [
    {
     "name": "stdout",
     "output_type": "stream",
     "text": [
      "Information Value (IV) for each feature:\n",
      "credit_lines_outstanding    12.026096\n",
      "loan_amt_outstanding         0.020835\n",
      "total_debt_outstanding       1.064116\n",
      "income                       0.003133\n",
      "years_employed               0.304898\n",
      "fico_score                   0.223547\n",
      "dtype: float64\n"
     ]
    }
   ],
   "source": [
    "# Function to calculate WOE for a continuous variable\n",
    "def calculate_woe_continuous(dt, feature, target, bins=10):\n",
    "    # Check if the feature is numeric (continuous) or not (categorical)\n",
    "    if pd.api.types.is_numeric_dtype(dt[feature]):\n",
    "        # Calculate the bins manually for the continuous variable\n",
    "        dt['bins'], bin_edges = pd.cut(dt[feature], bins, retbins=True, duplicates='drop', include_lowest=True)\n",
    "    \n",
    "    # Calculate the number of events (defaults) and non-events (non-defaults) in each bin\n",
    "    grouped = dt.groupby('bins').agg({\n",
    "        feature: 'count',\n",
    "        target: 'sum'\n",
    "    })\n",
    "    \n",
    "    # Calculate the percentage of events and non-events in each bin\n",
    "    grouped['event_pct'] = grouped[target] / grouped[feature]\n",
    "    grouped['non_event_pct'] = 1 - grouped['event_pct']\n",
    "    \n",
    "    # Calculate WOE by taking the natural logarithm of division (with a small offset to avoid divide-by-zero)\n",
    "    grouped['woe'] = np.log((grouped['non_event_pct'] + 1e-9) / (grouped['event_pct'] + 1e-9))\n",
    "    \n",
    "    woe_dict = grouped['woe'].to_dict()\n",
    "    woe_data = grouped[['woe']].rename(columns={'woe': 'woe_' + feature})\n",
    "    \n",
    "    # Reset index to avoid overlapping index when concatenating DataFrames\n",
    "    woe_data.reset_index(drop=True, inplace=True)\n",
    "    \n",
    "    return woe_data, woe_dict\n",
    "\n",
    "# Calculate WOE and IV for each feature in the dataset\n",
    "woe_data = pd.DataFrame()\n",
    "iv_values = {}\n",
    "\n",
    "for feature in dt.drop(columns=['default']).columns:\n",
    "    woe_feature_data, woe_dict = calculate_woe_continuous(dt, feature, target='default')\n",
    "\n",
    "    woe_data = pd.concat([woe_data, woe_feature_data], axis=1)\n",
    "\n",
    "    if not feature.startswith('woe_') and feature != 'bins':  # Exclude \"woe_\" features and \"bins\"\n",
    "        # Calculate IV for the original feature based on WOE\n",
    "        event_pct = dt['default'].sum() / dt['default'].count()\n",
    "        non_event_pct = 1 - event_pct\n",
    "        iv = np.sum((np.array(list(woe_dict.values())) - np.log((non_event_pct + 1e-9) / (event_pct + 1e-9))) * (dt.groupby('bins').count()['default'] / dt.shape[0]))\n",
    "        iv_values[feature] = iv\n",
    "\n",
    "# Display IV score for each original feature\n",
    "print(\"Information Value (IV) for each feature:\")\n",
    "print(pd.Series(iv_values))\n",
    "\n"
   ]
  },
  {
   "cell_type": "markdown",
   "id": "a8c8c707",
   "metadata": {},
   "source": [
    "We can see here that the information value confirm the correlation between default and credit lines outsanding"
   ]
  },
  {
   "cell_type": "markdown",
   "id": "a08cceb9",
   "metadata": {},
   "source": [
    "# Prepocessing "
   ]
  },
  {
   "cell_type": "markdown",
   "id": "f8cfb440",
   "metadata": {},
   "source": [
    "During EDA we found out that the default feature was imbalance so we will mke sure to work on that after slipting the data"
   ]
  },
  {
   "cell_type": "code",
   "execution_count": 8,
   "id": "7fb26f8e",
   "metadata": {},
   "outputs": [],
   "source": [
    "def preprocess_data(df):\n",
    "    \n",
    "    # Split the data into features (X) and target (y)\n",
    "    X = df.drop(columns=['default'])\n",
    "    y = df['default']\n",
    "  \n",
    "    # Split the data into training and testing sets (80% training, 20% testing)\n",
    "    X_train, X_test, y_train, y_test = train_test_split(X, y, test_size=0.2, random_state=42)\n",
    "        # Apply SMOTE to the training data to handle class imbalance\n",
    "    smote = SMOTE(random_state=42)\n",
    "    X_train_resampled, y_train_resampled = smote.fit_resample(X_train, y_train)\n",
    "    \n",
    "    return X_train_resampled, X_test, y_train_resampled, y_test\n",
    "\n"
   ]
  },
  {
   "cell_type": "code",
   "execution_count": 9,
   "id": "92f4deb8",
   "metadata": {},
   "outputs": [
    {
     "name": "stdout",
     "output_type": "stream",
     "text": [
      "       credit_lines_outstanding  loan_amt_outstanding  total_debt_outstanding  \\\n",
      "0                             0           3005.328746             4216.415038   \n",
      "1                             1           4717.704748             8760.954045   \n",
      "2                             0           5394.537878             5024.768703   \n",
      "3                             1           5367.416056             8101.373570   \n",
      "4                             1           3622.450370             7329.325832   \n",
      "...                         ...                   ...                     ...   \n",
      "12989                         5           3120.403821            14255.949800   \n",
      "12990                         5           6237.018601            22342.745460   \n",
      "12991                         4           3863.324310            15941.741641   \n",
      "12992                         4           2822.614035            12058.765215   \n",
      "12993                         5           5334.894545            25503.422502   \n",
      "\n",
      "             income  years_employed  fico_score  \n",
      "0      62959.189110               5         712  \n",
      "1      63546.227480               3         700  \n",
      "2      81083.457620               6         704  \n",
      "3      78087.377260               4         709  \n",
      "4      68499.745910               5         693  \n",
      "...             ...             ...         ...  \n",
      "12989  50002.507107               2         552  \n",
      "12990  81276.143046               2         617  \n",
      "12991  56799.007696               3         491  \n",
      "12992  47930.016981               4         601  \n",
      "12993  79989.433726               3         611  \n",
      "\n",
      "[12994 rows x 6 columns]\n"
     ]
    }
   ],
   "source": [
    "# Call the preprocess_data function\n",
    "X_train_resampled, X_test, y_train_resampled, y_test = preprocess_data(df)\n",
    "\n",
    "# Now you can use the resampled training data\n",
    "print(X_train_resampled)"
   ]
  },
  {
   "cell_type": "markdown",
   "id": "5d136795",
   "metadata": {},
   "source": [
    "# Model : Logistic and Xgboost"
   ]
  },
  {
   "cell_type": "markdown",
   "id": "74918742",
   "metadata": {},
   "source": [
    "I decided to use logistic regression and xgboost model for this project,\n",
    "Logistic regresson fr its supervised learning amd xgboost for its unsupervised learning "
   ]
  },
  {
   "cell_type": "code",
   "execution_count": 10,
   "id": "ba647fdf",
   "metadata": {},
   "outputs": [],
   "source": [
    "def train_logistic_regression(X_train_resampled, y_train_resampled):\n",
    "    # Train a logistic regression model\n",
    "    lr_model = LogisticRegression(random_state=42,solver='liblinear')\n",
    "    lr_model.fit(X_train_resampled, y_train_resampled)\n",
    "    return lr_model\n",
    "\n",
    "def train_xgboost(X_train_resampled, y_train_resampled):\n",
    "    # Train an XGBoost model\n",
    "    xgb_model = XGBClassifier(random_state=42)\n",
    "    xgb_model.fit(X_train_resampled, y_train_resampled)\n",
    "    return xgb_model\n"
   ]
  },
  {
   "cell_type": "code",
   "execution_count": 11,
   "id": "91f7d8ee",
   "metadata": {},
   "outputs": [
    {
     "data": {
      "text/html": [
       "<style>#sk-container-id-1 {color: black;background-color: white;}#sk-container-id-1 pre{padding: 0;}#sk-container-id-1 div.sk-toggleable {background-color: white;}#sk-container-id-1 label.sk-toggleable__label {cursor: pointer;display: block;width: 100%;margin-bottom: 0;padding: 0.3em;box-sizing: border-box;text-align: center;}#sk-container-id-1 label.sk-toggleable__label-arrow:before {content: \"▸\";float: left;margin-right: 0.25em;color: #696969;}#sk-container-id-1 label.sk-toggleable__label-arrow:hover:before {color: black;}#sk-container-id-1 div.sk-estimator:hover label.sk-toggleable__label-arrow:before {color: black;}#sk-container-id-1 div.sk-toggleable__content {max-height: 0;max-width: 0;overflow: hidden;text-align: left;background-color: #f0f8ff;}#sk-container-id-1 div.sk-toggleable__content pre {margin: 0.2em;color: black;border-radius: 0.25em;background-color: #f0f8ff;}#sk-container-id-1 input.sk-toggleable__control:checked~div.sk-toggleable__content {max-height: 200px;max-width: 100%;overflow: auto;}#sk-container-id-1 input.sk-toggleable__control:checked~label.sk-toggleable__label-arrow:before {content: \"▾\";}#sk-container-id-1 div.sk-estimator input.sk-toggleable__control:checked~label.sk-toggleable__label {background-color: #d4ebff;}#sk-container-id-1 div.sk-label input.sk-toggleable__control:checked~label.sk-toggleable__label {background-color: #d4ebff;}#sk-container-id-1 input.sk-hidden--visually {border: 0;clip: rect(1px 1px 1px 1px);clip: rect(1px, 1px, 1px, 1px);height: 1px;margin: -1px;overflow: hidden;padding: 0;position: absolute;width: 1px;}#sk-container-id-1 div.sk-estimator {font-family: monospace;background-color: #f0f8ff;border: 1px dotted black;border-radius: 0.25em;box-sizing: border-box;margin-bottom: 0.5em;}#sk-container-id-1 div.sk-estimator:hover {background-color: #d4ebff;}#sk-container-id-1 div.sk-parallel-item::after {content: \"\";width: 100%;border-bottom: 1px solid gray;flex-grow: 1;}#sk-container-id-1 div.sk-label:hover label.sk-toggleable__label {background-color: #d4ebff;}#sk-container-id-1 div.sk-serial::before {content: \"\";position: absolute;border-left: 1px solid gray;box-sizing: border-box;top: 0;bottom: 0;left: 50%;z-index: 0;}#sk-container-id-1 div.sk-serial {display: flex;flex-direction: column;align-items: center;background-color: white;padding-right: 0.2em;padding-left: 0.2em;position: relative;}#sk-container-id-1 div.sk-item {position: relative;z-index: 1;}#sk-container-id-1 div.sk-parallel {display: flex;align-items: stretch;justify-content: center;background-color: white;position: relative;}#sk-container-id-1 div.sk-item::before, #sk-container-id-1 div.sk-parallel-item::before {content: \"\";position: absolute;border-left: 1px solid gray;box-sizing: border-box;top: 0;bottom: 0;left: 50%;z-index: -1;}#sk-container-id-1 div.sk-parallel-item {display: flex;flex-direction: column;z-index: 1;position: relative;background-color: white;}#sk-container-id-1 div.sk-parallel-item:first-child::after {align-self: flex-end;width: 50%;}#sk-container-id-1 div.sk-parallel-item:last-child::after {align-self: flex-start;width: 50%;}#sk-container-id-1 div.sk-parallel-item:only-child::after {width: 0;}#sk-container-id-1 div.sk-dashed-wrapped {border: 1px dashed gray;margin: 0 0.4em 0.5em 0.4em;box-sizing: border-box;padding-bottom: 0.4em;background-color: white;}#sk-container-id-1 div.sk-label label {font-family: monospace;font-weight: bold;display: inline-block;line-height: 1.2em;}#sk-container-id-1 div.sk-label-container {text-align: center;}#sk-container-id-1 div.sk-container {/* jupyter's `normalize.less` sets `[hidden] { display: none; }` but bootstrap.min.css set `[hidden] { display: none !important; }` so we also need the `!important` here to be able to override the default hidden behavior on the sphinx rendered scikit-learn.org. See: https://github.com/scikit-learn/scikit-learn/issues/21755 */display: inline-block !important;position: relative;}#sk-container-id-1 div.sk-text-repr-fallback {display: none;}</style><div id=\"sk-container-id-1\" class=\"sk-top-container\"><div class=\"sk-text-repr-fallback\"><pre>LogisticRegression()</pre><b>In a Jupyter environment, please rerun this cell to show the HTML representation or trust the notebook. <br />On GitHub, the HTML representation is unable to render, please try loading this page with nbviewer.org.</b></div><div class=\"sk-container\" hidden><div class=\"sk-item\"><div class=\"sk-estimator sk-toggleable\"><input class=\"sk-toggleable__control sk-hidden--visually\" id=\"sk-estimator-id-1\" type=\"checkbox\" checked><label for=\"sk-estimator-id-1\" class=\"sk-toggleable__label sk-toggleable__label-arrow\">LogisticRegression</label><div class=\"sk-toggleable__content\"><pre>LogisticRegression()</pre></div></div></div></div></div>"
      ],
      "text/plain": [
       "LogisticRegression()"
      ]
     },
     "execution_count": 11,
     "metadata": {},
     "output_type": "execute_result"
    }
   ],
   "source": [
    "# Train the logistic regression model\n",
    "lr_model = LogisticRegression()\n",
    "lr_model.fit(X_train_resampled, y_train_resampled)"
   ]
  },
  {
   "cell_type": "code",
   "execution_count": 12,
   "id": "2723c2f8",
   "metadata": {},
   "outputs": [
    {
     "data": {
      "text/html": [
       "<style>#sk-container-id-2 {color: black;background-color: white;}#sk-container-id-2 pre{padding: 0;}#sk-container-id-2 div.sk-toggleable {background-color: white;}#sk-container-id-2 label.sk-toggleable__label {cursor: pointer;display: block;width: 100%;margin-bottom: 0;padding: 0.3em;box-sizing: border-box;text-align: center;}#sk-container-id-2 label.sk-toggleable__label-arrow:before {content: \"▸\";float: left;margin-right: 0.25em;color: #696969;}#sk-container-id-2 label.sk-toggleable__label-arrow:hover:before {color: black;}#sk-container-id-2 div.sk-estimator:hover label.sk-toggleable__label-arrow:before {color: black;}#sk-container-id-2 div.sk-toggleable__content {max-height: 0;max-width: 0;overflow: hidden;text-align: left;background-color: #f0f8ff;}#sk-container-id-2 div.sk-toggleable__content pre {margin: 0.2em;color: black;border-radius: 0.25em;background-color: #f0f8ff;}#sk-container-id-2 input.sk-toggleable__control:checked~div.sk-toggleable__content {max-height: 200px;max-width: 100%;overflow: auto;}#sk-container-id-2 input.sk-toggleable__control:checked~label.sk-toggleable__label-arrow:before {content: \"▾\";}#sk-container-id-2 div.sk-estimator input.sk-toggleable__control:checked~label.sk-toggleable__label {background-color: #d4ebff;}#sk-container-id-2 div.sk-label input.sk-toggleable__control:checked~label.sk-toggleable__label {background-color: #d4ebff;}#sk-container-id-2 input.sk-hidden--visually {border: 0;clip: rect(1px 1px 1px 1px);clip: rect(1px, 1px, 1px, 1px);height: 1px;margin: -1px;overflow: hidden;padding: 0;position: absolute;width: 1px;}#sk-container-id-2 div.sk-estimator {font-family: monospace;background-color: #f0f8ff;border: 1px dotted black;border-radius: 0.25em;box-sizing: border-box;margin-bottom: 0.5em;}#sk-container-id-2 div.sk-estimator:hover {background-color: #d4ebff;}#sk-container-id-2 div.sk-parallel-item::after {content: \"\";width: 100%;border-bottom: 1px solid gray;flex-grow: 1;}#sk-container-id-2 div.sk-label:hover label.sk-toggleable__label {background-color: #d4ebff;}#sk-container-id-2 div.sk-serial::before {content: \"\";position: absolute;border-left: 1px solid gray;box-sizing: border-box;top: 0;bottom: 0;left: 50%;z-index: 0;}#sk-container-id-2 div.sk-serial {display: flex;flex-direction: column;align-items: center;background-color: white;padding-right: 0.2em;padding-left: 0.2em;position: relative;}#sk-container-id-2 div.sk-item {position: relative;z-index: 1;}#sk-container-id-2 div.sk-parallel {display: flex;align-items: stretch;justify-content: center;background-color: white;position: relative;}#sk-container-id-2 div.sk-item::before, #sk-container-id-2 div.sk-parallel-item::before {content: \"\";position: absolute;border-left: 1px solid gray;box-sizing: border-box;top: 0;bottom: 0;left: 50%;z-index: -1;}#sk-container-id-2 div.sk-parallel-item {display: flex;flex-direction: column;z-index: 1;position: relative;background-color: white;}#sk-container-id-2 div.sk-parallel-item:first-child::after {align-self: flex-end;width: 50%;}#sk-container-id-2 div.sk-parallel-item:last-child::after {align-self: flex-start;width: 50%;}#sk-container-id-2 div.sk-parallel-item:only-child::after {width: 0;}#sk-container-id-2 div.sk-dashed-wrapped {border: 1px dashed gray;margin: 0 0.4em 0.5em 0.4em;box-sizing: border-box;padding-bottom: 0.4em;background-color: white;}#sk-container-id-2 div.sk-label label {font-family: monospace;font-weight: bold;display: inline-block;line-height: 1.2em;}#sk-container-id-2 div.sk-label-container {text-align: center;}#sk-container-id-2 div.sk-container {/* jupyter's `normalize.less` sets `[hidden] { display: none; }` but bootstrap.min.css set `[hidden] { display: none !important; }` so we also need the `!important` here to be able to override the default hidden behavior on the sphinx rendered scikit-learn.org. See: https://github.com/scikit-learn/scikit-learn/issues/21755 */display: inline-block !important;position: relative;}#sk-container-id-2 div.sk-text-repr-fallback {display: none;}</style><div id=\"sk-container-id-2\" class=\"sk-top-container\"><div class=\"sk-text-repr-fallback\"><pre>XGBClassifier(base_score=None, booster=None, callbacks=None,\n",
       "              colsample_bylevel=None, colsample_bynode=None,\n",
       "              colsample_bytree=None, early_stopping_rounds=None,\n",
       "              enable_categorical=False, eval_metric=None, feature_types=None,\n",
       "              gamma=None, gpu_id=None, grow_policy=None, importance_type=None,\n",
       "              interaction_constraints=None, learning_rate=None, max_bin=None,\n",
       "              max_cat_threshold=None, max_cat_to_onehot=None,\n",
       "              max_delta_step=None, max_depth=None, max_leaves=None,\n",
       "              min_child_weight=None, missing=nan, monotone_constraints=None,\n",
       "              n_estimators=100, n_jobs=None, num_parallel_tree=None,\n",
       "              predictor=None, random_state=None, ...)</pre><b>In a Jupyter environment, please rerun this cell to show the HTML representation or trust the notebook. <br />On GitHub, the HTML representation is unable to render, please try loading this page with nbviewer.org.</b></div><div class=\"sk-container\" hidden><div class=\"sk-item\"><div class=\"sk-estimator sk-toggleable\"><input class=\"sk-toggleable__control sk-hidden--visually\" id=\"sk-estimator-id-2\" type=\"checkbox\" checked><label for=\"sk-estimator-id-2\" class=\"sk-toggleable__label sk-toggleable__label-arrow\">XGBClassifier</label><div class=\"sk-toggleable__content\"><pre>XGBClassifier(base_score=None, booster=None, callbacks=None,\n",
       "              colsample_bylevel=None, colsample_bynode=None,\n",
       "              colsample_bytree=None, early_stopping_rounds=None,\n",
       "              enable_categorical=False, eval_metric=None, feature_types=None,\n",
       "              gamma=None, gpu_id=None, grow_policy=None, importance_type=None,\n",
       "              interaction_constraints=None, learning_rate=None, max_bin=None,\n",
       "              max_cat_threshold=None, max_cat_to_onehot=None,\n",
       "              max_delta_step=None, max_depth=None, max_leaves=None,\n",
       "              min_child_weight=None, missing=nan, monotone_constraints=None,\n",
       "              n_estimators=100, n_jobs=None, num_parallel_tree=None,\n",
       "              predictor=None, random_state=None, ...)</pre></div></div></div></div></div>"
      ],
      "text/plain": [
       "XGBClassifier(base_score=None, booster=None, callbacks=None,\n",
       "              colsample_bylevel=None, colsample_bynode=None,\n",
       "              colsample_bytree=None, early_stopping_rounds=None,\n",
       "              enable_categorical=False, eval_metric=None, feature_types=None,\n",
       "              gamma=None, gpu_id=None, grow_policy=None, importance_type=None,\n",
       "              interaction_constraints=None, learning_rate=None, max_bin=None,\n",
       "              max_cat_threshold=None, max_cat_to_onehot=None,\n",
       "              max_delta_step=None, max_depth=None, max_leaves=None,\n",
       "              min_child_weight=None, missing=nan, monotone_constraints=None,\n",
       "              n_estimators=100, n_jobs=None, num_parallel_tree=None,\n",
       "              predictor=None, random_state=None, ...)"
      ]
     },
     "execution_count": 12,
     "metadata": {},
     "output_type": "execute_result"
    }
   ],
   "source": [
    "# Train the XGBoost model\n",
    "xgb_model = XGBClassifier()\n",
    "xgb_model.fit(X_train_resampled, y_train_resampled)"
   ]
  },
  {
   "cell_type": "markdown",
   "id": "d1ce93cf",
   "metadata": {},
   "source": [
    "# Model Performance"
   ]
  },
  {
   "cell_type": "markdown",
   "id": "124a7327",
   "metadata": {},
   "source": [
    "Let evaluate the models performance using the auc , roc curve , precision and gini score"
   ]
  },
  {
   "cell_type": "code",
   "execution_count": 14,
   "id": "4f1b1090",
   "metadata": {},
   "outputs": [
    {
     "data": {
      "image/png": "[encoded data removed]",
      "text/plain": [
       "<Figure size 576x432 with 1 Axes>"
      ]
     },
     "metadata": {
      "needs_background": "light"
     },
     "output_type": "display_data"
    },
    {
     "name": "stdout",
     "output_type": "stream",
     "text": [
      "Logistic Regression:\n",
      "AUC: 0.9983997105563441\n",
      "Precision: 0.9186991869918699\n",
      "Gini Coefficient: 0.9967994211126883\n",
      "XGBoost:\n",
      "AUC: 0.9998121399348752\n",
      "Precision: 0.9829545454545454\n",
      "Gini Coefficient: 0.9996242798697503\n"
     ]
    }
   ],
   "source": [
    "def evaluate_model_performance(y_true, y_pred_probs):\n",
    "    # Calculate ROC curve\n",
    "    fpr, tpr, _ = roc_curve(y_true, y_pred_probs)\n",
    "    \n",
    "    # Calculate AUC (Area Under the Curve)\n",
    "    roc_auc = roc_auc_score(y_true, y_pred_probs)\n",
    "    \n",
    "    # Calculate precision\n",
    "    y_pred_labels = np.round(y_pred_probs)\n",
    "    precision = precision_score(y_true, y_pred_labels)\n",
    "    \n",
    "    # Calculate Gini coefficient\n",
    "    gini = 2 * roc_auc - 1\n",
    "    \n",
    "    return fpr, tpr, roc_auc, precision, gini\n",
    "# Predict probabilities on the test set\n",
    "lr_y_pred_probs = lr_model.predict_proba(X_test)[:, 1]\n",
    "xgb_y_pred_probs = xgb_model.predict_proba(X_test)[:, 1]\n",
    "\n",
    "# Evaluate logistic regression model performance\n",
    "lr_fpr, lr_tpr, lr_roc_auc, lr_precision, lr_gini = evaluate_model_performance(y_test, lr_y_pred_probs)\n",
    "\n",
    "# Evaluate XGBoost model performance\n",
    "xgb_fpr, xgb_tpr, xgb_roc_auc, xgb_precision, xgb_gini = evaluate_model_performance(y_test, xgb_y_pred_probs)\n",
    "\n",
    "# Plot ROC curves\n",
    "plt.figure(figsize=(8, 6))\n",
    "plt.plot(lr_fpr, lr_tpr, label=f\"Logistic Regression (AUC = {lr_roc_auc:.2f}, Precision = {lr_precision:.2f}, Gini = {lr_gini:.2f})\")\n",
    "plt.plot(xgb_fpr, xgb_tpr, label=f\"XGBoost (AUC = {xgb_roc_auc:.2f}, Precision = {xgb_precision:.2f}, Gini = {xgb_gini:.2f})\")\n",
    "plt.plot([0, 1], [0, 1], 'k--', label='Random Guessing')\n",
    "plt.xlabel('False Positive Rate')\n",
    "plt.ylabel('True Positive Rate')\n",
    "plt.title('Receiver Operating Characteristic (ROC) Curve')\n",
    "plt.legend(loc='lower right')\n",
    "plt.grid()\n",
    "plt.show()\n",
    "\n",
    "print(\"Logistic Regression:\")\n",
    "print(\"AUC:\", lr_roc_auc)\n",
    "print(\"Precision:\", lr_precision)\n",
    "print(\"Gini Coefficient:\", lr_gini)\n",
    "\n",
    "print(\"XGBoost:\")\n",
    "print(\"AUC:\", xgb_roc_auc)\n",
    "print(\"Precision:\", xgb_precision)\n",
    "print(\"Gini Coefficient:\", xgb_gini)"
   ]
  },
  {
   "cell_type": "markdown",
   "id": "29d1cb2c",
   "metadata": {},
   "source": [
    "From the results above , we ccan observe that the xgbost model is performing better than the logistic regression , and its precision score is almost perfect"
   ]
  },
  {
   "cell_type": "markdown",
   "id": "57817d8f",
   "metadata": {},
   "source": [
    "# Expected Loss"
   ]
  },
  {
   "cell_type": "markdown",
   "id": "131c996c",
   "metadata": {},
   "source": [
    "Although the xgboost model is our choice i decided to builld the expected loss model with boths models"
   ]
  },
  {
   "cell_type": "code",
   "execution_count": 15,
   "id": "5a2ec710",
   "metadata": {},
   "outputs": [],
   "source": [
    "def calculate_expected_loss(loan_properties, lr_model, xgb_model, recovery_rate=0.1):\n",
    "    # Prepare the loan data for prediction (exclude customer_id and default columns)\n",
    "    loan_data = pd.DataFrame([loan_properties])\n",
    "    \n",
    "    # Predict the probability of default using logistic regression\n",
    "    lr_prob_default = lr_model.predict_proba(loan_data)[:, 1]\n",
    "    \n",
    "    # Predict the probability of default using XGBoost\n",
    "    xgb_prob_default = xgb_model.predict_proba(loan_data)[:, 1]\n",
    "    \n",
    "    # Calculate the expected loss using both models and the recovery rate\n",
    "    expected_loss_lr = lr_prob_default * (1 - recovery_rate)\n",
    "    expected_loss_xgb = xgb_prob_default * (1 - recovery_rate)\n",
    "    \n",
    "    return expected_loss_lr[0], expected_loss_xgb[0]"
   ]
  },
  {
   "cell_type": "markdown",
   "id": "e501d5f2",
   "metadata": {},
   "source": [
    "the next line is the loan properties of a customer , its informaton will be take and output the expect loss"
   ]
  },
  {
   "cell_type": "code",
   "execution_count": 19,
   "id": "0fe461ea",
   "metadata": {},
   "outputs": [
    {
     "name": "stdout",
     "output_type": "stream",
     "text": [
      "Expected Loss on the loan (Logistic Regression): 0.90\n",
      "Expected Loss on the loan (XGBoost): 0.00\n"
     ]
    }
   ],
   "source": [
    "loan_properties = {\n",
    "    'credit_lines_outstanding': 2,\n",
    "    'loan_amt_outstanding': 30000,\n",
    "    'total_debt_outstanding': 4000,\n",
    "    'income': 50000,\n",
    "    'years_employed': 3,\n",
    "    'fico_score': 750,\n",
    "}\n",
    "# Example of how to use the function with the trained models\n",
    "expected_loss_lr, expected_loss_xgb = calculate_expected_loss(loan_properties, lr_model, xgb_model, recovery_rate=0.1)\n",
    "print(f\"Expected Loss on the loan (Logistic Regression): {expected_loss_lr:.2f}\")\n",
    "print(f\"Expected Loss on the loan (XGBoost): {expected_loss_xgb:.2f}\")"
   ]
  },
  {
   "cell_type": "markdown",
   "id": "be40e3b5",
   "metadata": {},
   "source": [
    "Both model give largely different expected loss , We found that ot xgboost have more precision so we may chosse to only work with xgbosst model . However I decided to check how different they really are by plotting they predcted probability of default and have their overall expected loss and found their average scores"
   ]
  },
  {
   "cell_type": "code",
   "execution_count": 41,
   "id": "50215561",
   "metadata": {},
   "outputs": [
    {
     "data": {
      "image/png": "[encoded data removed]",
      "text/plain": [
       "<Figure size 576x432 with 1 Axes>"
      ]
     },
     "metadata": {
      "needs_background": "light"
     },
     "output_type": "display_data"
    }
   ],
   "source": [
    "def plot_predicted_probabilities(lr_y_pred_probs, xgb_y_pred_probs):\n",
    "    plt.figure(figsize=(8, 6))\n",
    "    plt.hist(lr_y_pred_probs, bins=50, alpha=0.5, label='Logistic Regression')\n",
    "    plt.hist(xgb_y_pred_probs, bins=50, alpha=0.5, label='XGBoost')\n",
    "    plt.xlabel('Predicted Probability of Default')\n",
    "    plt.ylabel('Frequency')\n",
    "    plt.title('Distribution of Predicted Probabilities')\n",
    "    plt.legend()\n",
    "    plt.show()\n",
    "plot_predicted_probabilities(lr_y_pred_probs, xgb_y_pred_probs)"
   ]
  },
  {
   "cell_type": "code",
   "execution_count": 219,
   "id": "83d73cdf",
   "metadata": {},
   "outputs": [],
   "source": [
    "X = df.drop(columns=['default'])\n",
    "y = df['default']\n",
    "# Create a StandardScaler instance\n",
    "scaler = StandardScaler()\n",
    "\n",
    "# Apply scaling to the data before training the model\n",
    "X_scaled = scaler.fit_transform(X)\n",
    "\n",
    "cv = StratifiedKFold(n_splits=5, shuffle=True, random_state=42)\n",
    "cv = StratifiedKFold(n_splits=5, shuffle=True, random_state=42)\n",
    "lr_prob_default = cross_val_predict(lr_model, X_scaled, y, cv=cv, method='predict_proba')[:, 1]\n",
    "xgb_prob_default = cross_val_predict(xgb_model, X, y, cv=cv, method='predict_proba')[:, 1]\n",
    "recovery_rate = 0.1\n",
    "expected_loss_lr = lr_prob_default * (1 - recovery_rate)\n",
    "expected_loss_xgb = xgb_prob_default * (1 - recovery_rate)"
   ]
  },
  {
   "cell_type": "code",
   "execution_count": 220,
   "id": "9489f758",
   "metadata": {},
   "outputs": [
    {
     "name": "stdout",
     "output_type": "stream",
     "text": [
      "Expected Loss on the loan (Logistic Regression):\n",
      "[2.11519713e-11 8.99999773e-01 1.52470252e-10 ... 1.10838165e-04\n",
      " 9.33623872e-09 4.24493459e-09]\n",
      "Expected Loss on the loan (XGBoost):\n",
      "[2.0293410e-06 8.9967275e-01 2.2588465e-06 ... 1.4399581e-04 8.5216088e-06\n",
      " 3.2018605e-05]\n"
     ]
    }
   ],
   "source": [
    "# Display the expected losses\n",
    "print(\"Expected Loss on the loan (Logistic Regression):\")\n",
    "print(expected_loss_lr)\n",
    "\n",
    "print(\"Expected Loss on the loan (XGBoost):\")\n",
    "print(expected_loss_xgb)\n"
   ]
  },
  {
   "cell_type": "code",
   "execution_count": 221,
   "id": "32d48090",
   "metadata": {},
   "outputs": [
    {
     "name": "stdout",
     "output_type": "stream",
     "text": [
      "Overall Expected Loss on the loan (Logistic Regression):\n",
      "0.16657090044042938\n",
      "Overall Expected Loss on the loan (XGBoost):\n",
      "0.1662873\n"
     ]
    }
   ],
   "source": [
    "# Overall Expected Loss on the loan (Logistic Regression):\n",
    "overall_expected_loss_lr = expected_loss_lr.mean()\n",
    "print(\"Overall Expected Loss on the loan (Logistic Regression):\")\n",
    "print(overall_expected_loss_lr)\n",
    "\n",
    "# Overall Expected Loss on the loan (XGBoost):\n",
    "overall_expected_loss_xgb = expected_loss_xgb.mean()\n",
    "print(\"Overall Expected Loss on the loan (XGBoost):\")\n",
    "print(overall_expected_loss_xgb)"
   ]
  },
  {
   "cell_type": "markdown",
   "id": "e04ab294",
   "metadata": {},
   "source": [
    "# Summary"
   ]
  },
  {
   "cell_type": "markdown",
   "id": "2d87894b",
   "metadata": {},
   "source": [
    "At the end of the project , we learn that the probability that a customer default have a bit of correlation with with outsanding balances . Logistic egresion even with it supervised ML classifcation advantage does not outperform the Xgbosst model, whcich can be because xgboost ave some optimization technique and also take care of overfitting. With different expected loss , the model validation team may have a difficult choice to decided which moel use , but we may decided to use others model evaluation metric and do more back stress test"
   ]
  },
  {
   "cell_type": "code",
   "execution_count": 23,
   "id": "fda7a95f",
   "metadata": {},
   "outputs": [
    {
     "name": "stdout",
     "output_type": "stream",
     "text": [
      "Initial MSE: 6.34\n"
     ]
    }
   ],
   "source": [
    "from sklearn.metrics import mean_squared_error\n",
    "from sklearn.preprocessing import LabelEncoder\n",
    "\n",
    "# Define the quantization boundaries for 5 buckets\n",
    "low_risk_boundary = 300\n",
    "high_risk_boundary = 850\n",
    "bucket_width = (high_risk_boundary - low_risk_boundary) / 5\n",
    "bucket_boundaries = [low_risk_boundary + i * bucket_width for i in range(6)]\n",
    "\n",
    "# Function to calculate MSE\n",
    "def calculate_mse(df, boundaries):\n",
    "    # Create a label encoder to convert string labels to numerical values\n",
    "    label_encoder = LabelEncoder()\n",
    "    df[\"quantized_fico\"] = pd.cut(df[\"fico_score\"], bins=boundaries, labels=[\"Bucket 1\", \"Bucket 2\", \"Bucket 3\", \"Bucket 4\", \"Bucket 5\"])\n",
    "    df[\"quantized_fico_encoded\"] = label_encoder.fit_transform(df[\"quantized_fico\"])\n",
    "    mse = mean_squared_error(df[\"default\"], df[\"quantized_fico_encoded\"])\n",
    "    return mse\n",
    "\n",
    "# Calculate initial MSE\n",
    "initial_mse = calculate_mse(df, bucket_boundaries)\n",
    "print(f\"Initial MSE: {initial_mse:.2f}\")"
   ]
  },
  {
   "cell_type": "code",
   "execution_count": 31,
   "id": "51ec7132",
   "metadata": {
    "scrolled": true
   },
   "outputs": [
    {
     "name": "stdout",
     "output_type": "stream",
     "text": [
      "Optimal Boundaries: [300.0, 510.0, 620.0, 730.0, 840.0, 850.0]\n",
      "Optimal MSE: 2.84\n"
     ]
    }
   ],
   "source": [
    "# Define a function to iteratively adjust boundaries and calculate MSE\n",
    "def find_optimal_boundaries(df, max_iterations=100):\n",
    "    current_boundaries = bucket_boundaries\n",
    "    best_mse = initial_mse\n",
    "    best_boundaries = current_boundaries.copy()\n",
    "    \n",
    "    for iteration in range(max_iterations):\n",
    "        # Generate potential boundary candidates (e.g., adjust boundaries)\n",
    "        boundary_candidates = current_boundaries.copy()\n",
    "        for i in range(1, len(boundary_candidates) - 1):\n",
    "            boundary_candidates[i] += 1  # Adjust boundaries\n",
    "        \n",
    "        # Calculate MSE for the candidates\n",
    "        mse_values = []\n",
    "        for candidate in boundary_candidates:\n",
    "            mse = calculate_mse(df, boundary_candidates)\n",
    "            mse_values.append(mse)\n",
    "        \n",
    "        # Find the best candidate\n",
    "        best_candidate_idx = np.argmin(mse_values)\n",
    "        best_candidate_mse = mse_values[best_candidate_idx]\n",
    "        best_candidate_boundary = boundary_candidates[best_candidate_idx]\n",
    "        \n",
    "        # If the best candidate has a lower MSE, update boundaries\n",
    "        if best_candidate_mse < best_mse:\n",
    "            best_mse = best_candidate_mse\n",
    "            best_boundaries = boundary_candidates\n",
    "            current_boundaries = best_boundaries\n",
    "        else:\n",
    "            break\n",
    "    \n",
    "    return best_boundaries, best_mse\n",
    "\n",
    "# Find optimal boundaries\n",
    "optimal_boundaries, optimal_mse = find_optimal_boundaries(df)\n",
    "\n",
    "# Print the optimal boundaries and corresponding MSE\n",
    "print(f\"Optimal Boundaries: {optimal_boundaries}\")\n",
    "print(f\"Optimal MSE: {optimal_mse:.2f}\")\n"
   ]
  },
  {
   "cell_type": "code",
   "execution_count": 33,
   "id": "d46cd768",
   "metadata": {},
   "outputs": [
    {
     "name": "stdout",
     "output_type": "stream",
     "text": [
      "Optimal Boundaries: [300.0, 519.0, 629.0, 739.0, 849.0, 850.0]\n",
      "Optimal MSE: 2.60\n"
     ]
    }
   ],
   "source": [
    "# Define a function to iteratively adjust boundaries and calculate MSE\n",
    "def find_optimal_boundaries(df, max_iterations=500):\n",
    "    current_boundaries = bucket_boundaries\n",
    "    best_mse = initial_mse\n",
    "    best_boundaries = current_boundaries.copy()\n",
    "    \n",
    "    for iteration in range(max_iterations):\n",
    "        # Generate potential boundary candidates (e.g., adjust boundaries)\n",
    "        boundary_candidates = current_boundaries.copy()\n",
    "        for i in range(1, len(boundary_candidates) - 1):\n",
    "            boundary_candidates[i] += 1  # Adjust boundaries\n",
    "        \n",
    "        # Check if the boundaries are unique\n",
    "        if len(set(boundary_candidates)) != len(boundary_candidates):\n",
    "            break\n",
    "        \n",
    "        # Calculate MSE for the candidates\n",
    "        mse_values = []\n",
    "        for candidate in boundary_candidates:\n",
    "            mse = calculate_mse(df, boundary_candidates)\n",
    "            mse_values.append(mse)\n",
    "        \n",
    "        # Find the best candidate\n",
    "        best_candidate_idx = np.argmin(mse_values)\n",
    "        best_candidate_mse = mse_values[best_candidate_idx]\n",
    "        best_candidate_boundary = boundary_candidates[best_candidate_idx]\n",
    "        \n",
    "        # If the best candidate has a lower MSE, update boundaries\n",
    "        if best_candidate_mse < best_mse:\n",
    "            best_mse = best_candidate_mse\n",
    "            best_boundaries = boundary_candidates\n",
    "            current_boundaries = best_boundaries\n",
    "        else:\n",
    "            break\n",
    "    \n",
    "    return best_boundaries, best_mse\n",
    "\n",
    "# Find optimal boundaries\n",
    "optimal_boundaries, optimal_mse = find_optimal_boundaries(df)\n",
    "\n",
    "# Print the optimal boundaries and corresponding MSE\n",
    "print(f\"Optimal Boundaries: {optimal_boundaries}\")\n",
    "print(f\"Optimal MSE: {optimal_mse:.2f}\")\n"
   ]
  },
  {
   "cell_type": "code",
   "execution_count": null,
   "id": "27ed764f",
   "metadata": {},
   "outputs": [],
   "source": []
  }
 ],
 "metadata": {
  "kernelspec": {
   "display_name": "Python 3 (ipykernel)",
   "language": "python",
   "name": "python3"
  },
  "language_info": {
   "codemirror_mode": {
    "name": "ipython",
    "version": 3
   },
   "file_extension": ".py",
   "mimetype": "text/x-python",
   "name": "python",
   "nbconvert_exporter": "python",
   "pygments_lexer": "ipython3",
   "version": "3.11.5"
  }
 },
 "nbformat": 4,
 "nbformat_minor": 5
}
